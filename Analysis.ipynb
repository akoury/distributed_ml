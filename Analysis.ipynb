{
 "cells": [
  {
   "cell_type": "markdown",
   "metadata": {},
   "source": [
    "# Dask"
   ]
  },
  {
   "cell_type": "code",
   "execution_count": 1,
   "metadata": {},
   "outputs": [
    {
     "name": "stdout",
     "output_type": "stream",
     "text": [
      "Warning: Your Kaggle API key is readable by other users on this system! To fix this, you can run 'chmod 600 /Users/alejandro/.kaggle/kaggle.json'\n"
     ]
    }
   ],
   "source": [
    "import kaggle\n",
    "import zipfile\n",
    "import dask.dataframe as dd\n",
    "from dask.distributed import Client\n",
    "from sklearn.metrics import r2_score\n",
    "from sklearn.pipeline import Pipeline\n",
    "from dask_ml.compose import ColumnTransformer\n",
    "from dask_ml.preprocessing import OneHotEncoder\n",
    "from sklearn.preprocessing import PowerTransformer\n",
    "from sklearn.ensemble import RandomForestRegressor\n",
    "from sklearn.model_selection import TimeSeriesSplit\n",
    "from dask_ml.model_selection import RandomizedSearchCV"
   ]
  },
  {
   "cell_type": "code",
   "execution_count": 2,
   "metadata": {},
   "outputs": [
    {
     "name": "stdout",
     "output_type": "stream",
     "text": [
      "Warning: Your Kaggle API key is readable by other users on this system! To fix this, you can run 'chmod 600 /Users/alejandro/.kaggle/kaggle.json'\n"
     ]
    }
   ],
   "source": [
    "kaggle.api.authenticate()\n",
    "kaggle.api.dataset_download_files('marklvl/bike-sharing-dataset', path='data', unzip=False)"
   ]
  },
  {
   "cell_type": "code",
   "execution_count": 3,
   "metadata": {},
   "outputs": [],
   "source": [
    "zipper = zipfile.ZipFile('data/bike-sharing-dataset.zip', 'r')\n",
    "zipper.extractall('data/')\n",
    "zipper.close()"
   ]
  },
  {
   "cell_type": "code",
   "execution_count": 4,
   "metadata": {},
   "outputs": [
    {
     "data": {
      "text/html": [
       "<table style=\"border: 2px solid white;\">\n",
       "<tr>\n",
       "<td style=\"vertical-align: top; border: 0px solid white\">\n",
       "<h3>Client</h3>\n",
       "<ul>\n",
       "  <li><b>Scheduler: </b>tcp://127.0.0.1:64265\n",
       "  <li><b>Dashboard: </b><a href='http://127.0.0.1:8787/status' target='_blank'>http://127.0.0.1:8787/status</a>\n",
       "</ul>\n",
       "</td>\n",
       "<td style=\"vertical-align: top; border: 0px solid white\">\n",
       "<h3>Cluster</h3>\n",
       "<ul>\n",
       "  <li><b>Workers: </b>4</li>\n",
       "  <li><b>Cores: </b>4</li>\n",
       "  <li><b>Memory: </b>17.18 GB</li>\n",
       "</ul>\n",
       "</td>\n",
       "</tr>\n",
       "</table>"
      ],
      "text/plain": [
       "<Client: scheduler='tcp://127.0.0.1:64265' processes=4 cores=4>"
      ]
     },
     "execution_count": 4,
     "metadata": {},
     "output_type": "execute_result"
    }
   ],
   "source": [
    "client = Client()\n",
    "client"
   ]
  },
  {
   "cell_type": "code",
   "execution_count": 48,
   "metadata": {},
   "outputs": [],
   "source": [
    "types = {\n",
    "    'season':'category',\n",
    "    'yr':'category', \n",
    "    'mnth': 'category',\n",
    "    'holiday' :'bool',\n",
    "    'weekday': 'category',\n",
    "    'workingday':'bool',\n",
    "    'weathersit':'category',\n",
    "}\n",
    "\n",
    "df = dd.read_csv('data/hour.csv', parse_dates=[1], dtype=types)"
   ]
  },
  {
   "cell_type": "code",
   "execution_count": 49,
   "metadata": {},
   "outputs": [
    {
     "data": {
      "text/html": [
       "<div>\n",
       "<style scoped>\n",
       "    .dataframe tbody tr th:only-of-type {\n",
       "        vertical-align: middle;\n",
       "    }\n",
       "\n",
       "    .dataframe tbody tr th {\n",
       "        vertical-align: top;\n",
       "    }\n",
       "\n",
       "    .dataframe thead th {\n",
       "        text-align: right;\n",
       "    }\n",
       "</style>\n",
       "<table border=\"1\" class=\"dataframe\">\n",
       "  <thead>\n",
       "    <tr style=\"text-align: right;\">\n",
       "      <th></th>\n",
       "      <th>instant</th>\n",
       "      <th>season</th>\n",
       "      <th>yr</th>\n",
       "      <th>mnth</th>\n",
       "      <th>hr</th>\n",
       "      <th>holiday</th>\n",
       "      <th>weekday</th>\n",
       "      <th>workingday</th>\n",
       "      <th>weathersit</th>\n",
       "      <th>temp</th>\n",
       "      <th>atemp</th>\n",
       "      <th>hum</th>\n",
       "      <th>windspeed</th>\n",
       "      <th>cnt</th>\n",
       "      <th>precipitation</th>\n",
       "    </tr>\n",
       "  </thead>\n",
       "  <tbody>\n",
       "    <tr>\n",
       "      <th>0</th>\n",
       "      <td>1</td>\n",
       "      <td>1</td>\n",
       "      <td>0</td>\n",
       "      <td>1</td>\n",
       "      <td>0</td>\n",
       "      <td>False</td>\n",
       "      <td>6</td>\n",
       "      <td>False</td>\n",
       "      <td>1</td>\n",
       "      <td>0.24</td>\n",
       "      <td>0.2879</td>\n",
       "      <td>0.81</td>\n",
       "      <td>0.0</td>\n",
       "      <td>16</td>\n",
       "      <td>True</td>\n",
       "    </tr>\n",
       "    <tr>\n",
       "      <th>1</th>\n",
       "      <td>2</td>\n",
       "      <td>1</td>\n",
       "      <td>0</td>\n",
       "      <td>1</td>\n",
       "      <td>1</td>\n",
       "      <td>False</td>\n",
       "      <td>6</td>\n",
       "      <td>False</td>\n",
       "      <td>1</td>\n",
       "      <td>0.22</td>\n",
       "      <td>0.2727</td>\n",
       "      <td>0.80</td>\n",
       "      <td>0.0</td>\n",
       "      <td>40</td>\n",
       "      <td>True</td>\n",
       "    </tr>\n",
       "    <tr>\n",
       "      <th>2</th>\n",
       "      <td>3</td>\n",
       "      <td>1</td>\n",
       "      <td>0</td>\n",
       "      <td>1</td>\n",
       "      <td>2</td>\n",
       "      <td>False</td>\n",
       "      <td>6</td>\n",
       "      <td>False</td>\n",
       "      <td>1</td>\n",
       "      <td>0.22</td>\n",
       "      <td>0.2727</td>\n",
       "      <td>0.80</td>\n",
       "      <td>0.0</td>\n",
       "      <td>32</td>\n",
       "      <td>True</td>\n",
       "    </tr>\n",
       "    <tr>\n",
       "      <th>3</th>\n",
       "      <td>4</td>\n",
       "      <td>1</td>\n",
       "      <td>0</td>\n",
       "      <td>1</td>\n",
       "      <td>3</td>\n",
       "      <td>False</td>\n",
       "      <td>6</td>\n",
       "      <td>False</td>\n",
       "      <td>1</td>\n",
       "      <td>0.24</td>\n",
       "      <td>0.2879</td>\n",
       "      <td>0.75</td>\n",
       "      <td>0.0</td>\n",
       "      <td>13</td>\n",
       "      <td>True</td>\n",
       "    </tr>\n",
       "    <tr>\n",
       "      <th>4</th>\n",
       "      <td>5</td>\n",
       "      <td>1</td>\n",
       "      <td>0</td>\n",
       "      <td>1</td>\n",
       "      <td>4</td>\n",
       "      <td>False</td>\n",
       "      <td>6</td>\n",
       "      <td>False</td>\n",
       "      <td>1</td>\n",
       "      <td>0.24</td>\n",
       "      <td>0.2879</td>\n",
       "      <td>0.75</td>\n",
       "      <td>0.0</td>\n",
       "      <td>1</td>\n",
       "      <td>True</td>\n",
       "    </tr>\n",
       "  </tbody>\n",
       "</table>\n",
       "</div>"
      ],
      "text/plain": [
       "   instant season yr mnth hr  holiday weekday  workingday weathersit  temp  \\\n",
       "0        1      1  0    1  0    False       6       False          1  0.24   \n",
       "1        2      1  0    1  1    False       6       False          1  0.22   \n",
       "2        3      1  0    1  2    False       6       False          1  0.22   \n",
       "3        4      1  0    1  3    False       6       False          1  0.24   \n",
       "4        5      1  0    1  4    False       6       False          1  0.24   \n",
       "\n",
       "    atemp   hum  windspeed  cnt  precipitation  \n",
       "0  0.2879  0.81        0.0   16           True  \n",
       "1  0.2727  0.80        0.0   40           True  \n",
       "2  0.2727  0.80        0.0   32           True  \n",
       "3  0.2879  0.75        0.0   13           True  \n",
       "4  0.2879  0.75        0.0    1           True  "
      ]
     },
     "execution_count": 49,
     "metadata": {},
     "output_type": "execute_result"
    }
   ],
   "source": [
    "precipitation = dd.read_csv(\"https://gist.githubusercontent.com/akoury/6fb1897e44aec81cced8843b920bad78/raw/b1161d2c8989d013d6812b224f028587a327c86d/precipitation.csv\", parse_dates=[1])\n",
    "df = dd.merge(df, precipitation, how=\"left\", on=[\"dteday\", \"hr\"])\n",
    "df['precipitation'] = df['precipitation'].mask(df['precipitation'].isnull(), 0).mask(df['precipitation'] > 0, 1).astype(bool)\n",
    "df = df.drop(['dteday', 'casual', 'registered'], axis=1)\n",
    "df['hr'] = df['hr'].astype('category')\n",
    "df = df.categorize()\n",
    "df.head()"
   ]
  },
  {
   "cell_type": "code",
   "execution_count": 50,
   "metadata": {},
   "outputs": [
    {
     "data": {
      "text/plain": [
       "instant             int64\n",
       "season           category\n",
       "yr               category\n",
       "mnth             category\n",
       "hr               category\n",
       "holiday              bool\n",
       "weekday          category\n",
       "workingday           bool\n",
       "weathersit       category\n",
       "temp              float64\n",
       "atemp             float64\n",
       "hum               float64\n",
       "windspeed         float64\n",
       "cnt                 int64\n",
       "precipitation        bool\n",
       "dtype: object"
      ]
     },
     "execution_count": 50,
     "metadata": {},
     "output_type": "execute_result"
    }
   ],
   "source": [
    "df.dtypes"
   ]
  },
  {
   "cell_type": "code",
   "execution_count": 51,
   "metadata": {},
   "outputs": [],
   "source": [
    "train_df = df.loc[:15211]\n",
    "holdout = df.loc[15211:]"
   ]
  },
  {
   "cell_type": "code",
   "execution_count": 52,
   "metadata": {},
   "outputs": [],
   "source": [
    "num_pipeline = Pipeline(\n",
    "    [(\"power_transformer\", PowerTransformer(method=\"yeo-johnson\", standardize=True))]\n",
    ")\n",
    "\n",
    "categorical_pipeline = Pipeline(\n",
    "    [(\"one_hot\", OneHotEncoder())]\n",
    ")\n",
    "\n",
    "pipe = Pipeline([\n",
    "    (\"column_transformer\", ColumnTransformer([\n",
    "#         (\"numerical_pipeline\", num_pipeline, [\"hum\", \"temp\", \"atemp\", \"windspeed\"]),\n",
    "        (\"categorical_pipeline\", categorical_pipeline, [\"season\", \"yr\", \"mnth\", \"hr\", \"weekday\", \"weathersit\"]),\n",
    "    ], remainder=\"passthrough\")),\n",
    "    (\"random_forest\", RandomForestRegressor(n_estimators=100, random_state=1))   \n",
    "])"
   ]
  },
  {
   "cell_type": "code",
   "execution_count": 53,
   "metadata": {},
   "outputs": [],
   "source": [
    "grid = {\n",
    "    \"random_forest__max_depth\": [100, 150],\n",
    "    \"random_forest__min_samples_leaf\": [5, 10],\n",
    "    \"random_forest__min_samples_split\": [10, 20],\n",
    "    \"random_forest__max_leaf_nodes\": [None, 80],\n",
    "}\n",
    "\n",
    "gridpipe = RandomizedSearchCV(pipe, grid, n_iter=100, cv=TimeSeriesSplit(n_splits=4), scoring=\"r2\", random_state = 1)"
   ]
  },
  {
   "cell_type": "code",
   "execution_count": 54,
   "metadata": {},
   "outputs": [
    {
     "name": "stderr",
     "output_type": "stream",
     "text": [
      "/anaconda3/lib/python3.7/site-packages/sklearn/model_selection/_search.py:271: UserWarning: The total space of parameters 16 is smaller than n_iter=100. Running 16 iterations. For exhaustive searches, use GridSearchCV.\n",
      "  % (grid_size, self.n_iter, grid_size), UserWarning)\n"
     ]
    },
    {
     "data": {
      "text/plain": [
       "RandomizedSearchCV(cache_cv=True,\n",
       "          cv=TimeSeriesSplit(max_train_size=None, n_splits=4),\n",
       "          error_score='raise',\n",
       "          estimator=Pipeline(memory=None,\n",
       "     steps=[('column_transformer', ColumnTransformer(n_jobs=1, preserve_dataframe=True, remainder='passthrough',\n",
       "         sparse_threshold=0.3, transformer_weights=None,\n",
       "         transformers=[('categorical_pipeline', Pipeline(memory=None,\n",
       "     steps=[('one_hot', OneHotEncoder(categorical_features=None, ...imators=100, n_jobs=None,\n",
       "           oob_score=False, random_state=1, verbose=0, warm_start=False))]),\n",
       "          iid=True, n_iter=100, n_jobs=-1,\n",
       "          param_distributions={'random_forest__max_depth': [100, 150], 'random_forest__min_samples_leaf': [5, 10], 'random_forest__min_samples_split': [10, 20], 'random_forest__max_leaf_nodes': [None, 80]},\n",
       "          random_state=1, refit=True, return_train_score='warn',\n",
       "          scheduler=None, scoring=None)"
      ]
     },
     "execution_count": 54,
     "metadata": {},
     "output_type": "execute_result"
    }
   ],
   "source": [
    "X = train_df.drop(['cnt'], axis=1)\n",
    "y = train_df['cnt']\n",
    "gridpipe.fit(X,y)"
   ]
  },
  {
   "cell_type": "code",
   "execution_count": 55,
   "metadata": {},
   "outputs": [
    {
     "name": "stdout",
     "output_type": "stream",
     "text": [
      "{'random_forest__max_depth': 100, 'random_forest__max_leaf_nodes': None, 'random_forest__min_samples_leaf': 5, 'random_forest__min_samples_split': 10}\n"
     ]
    }
   ],
   "source": [
    "print(gridpipe.best_params_)"
   ]
  },
  {
   "cell_type": "code",
   "execution_count": 56,
   "metadata": {},
   "outputs": [
    {
     "data": {
      "text/plain": [
       "0.8174114959306136"
      ]
     },
     "execution_count": 56,
     "metadata": {},
     "output_type": "execute_result"
    }
   ],
   "source": [
    "predicted = gridpipe.predict(holdout.drop(['cnt'], axis=1))\n",
    "score = r2_score(holdout['cnt'].values.compute(), predicted)\n",
    "score"
   ]
  },
  {
   "cell_type": "code",
   "execution_count": 57,
   "metadata": {},
   "outputs": [],
   "source": [
    "client.close()"
   ]
  }
 ],
 "metadata": {
  "kernelspec": {
   "display_name": "Python 3",
   "language": "python",
   "name": "python3"
  },
  "language_info": {
   "codemirror_mode": {
    "name": "ipython",
    "version": 3
   },
   "file_extension": ".py",
   "mimetype": "text/x-python",
   "name": "python",
   "nbconvert_exporter": "python",
   "pygments_lexer": "ipython3",
   "version": "3.7.2"
  }
 },
 "nbformat": 4,
 "nbformat_minor": 2
}
